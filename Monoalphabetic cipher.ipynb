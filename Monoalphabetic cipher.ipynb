{
 "cells": [
  {
   "cell_type": "code",
   "execution_count": 2,
   "metadata": {},
   "outputs": [
    {
     "name": "stdout",
     "output_type": "stream",
     "text": [
      "Using key QWERTYUIOPASDFGHJKLZXCVBNM\n",
      "The encrypted message is:\n",
      "Vitf ngx rg zit egddgf zioful of soyt of qf xfegddgf vqn, ngx voss egddqfr zit qzztfzogf gy zit vgksr\n"
     ]
    }
   ],
   "source": [
    "import sys, random\n",
    "\n",
    "LETTERS = 'ABCDEFGHIJKLMNOPQRSTUVWXYZ'\n",
    "\n",
    "def main():\n",
    "    myMessage = 'When you do the common things in life in an uncommon way, you will command the attention of the world'\n",
    "    myKey = 'QWERTYUIOPASDFGHJKLZXCVBNM'\n",
    "    myMode = 'encrypt' \n",
    "\n",
    "    checkValidKey(myKey)\n",
    "\n",
    "    if myMode == 'encrypt':\n",
    "        translated = encryptMessage(myKey, myMessage)\n",
    "    elif myMode == 'decrypt':\n",
    "        translated = decryptMessage(myKey, myMessage)\n",
    "    print('Using key %s' % (myKey))\n",
    "    print('The %sed message is:' % (myMode))\n",
    "    print(translated)\n",
    "\n",
    "\n",
    "def checkValidKey(key):\n",
    "    keyList = list(key)\n",
    "    lettersList = list(LETTERS)\n",
    "    keyList.sort()\n",
    "    lettersList.sort()\n",
    "    if keyList != lettersList:\n",
    "        sys.exit('There is an error in the key or symbol set.')\n",
    "\n",
    "\n",
    "def encryptMessage(key, message):\n",
    "    return translateMessage(key, message, 'encrypt')\n",
    "\n",
    "\n",
    "def decryptMessage(key, message):\n",
    "    return translateMessage(key, message, 'decrypt')\n",
    "\n",
    "\n",
    "def translateMessage(key, message, mode):\n",
    "    translated = ''\n",
    "    charsA = LETTERS\n",
    "    charsB = key\n",
    "    if mode == 'decrypt':\n",
    "        \n",
    "        charsA, charsB = charsB, charsA\n",
    "\n",
    "    \n",
    "    for symbol in message:\n",
    "        if symbol.upper() in charsA:\n",
    "            \n",
    "            symIndex = charsA.find(symbol.upper())\n",
    "            if symbol.isupper():\n",
    "                translated += charsB[symIndex].upper()\n",
    "            else:\n",
    "                translated += charsB[symIndex].lower()\n",
    "        else:\n",
    "            \n",
    "            translated += symbol\n",
    "\n",
    "    return translated\n",
    "\n",
    "\n",
    "def getRandomKey():\n",
    "    key = list(LETTERS)\n",
    "    random.shuffle(key)\n",
    "    return ''.join(key)\n",
    "\n",
    "main()"
   ]
  },
  {
   "cell_type": "code",
   "execution_count": null,
   "metadata": {},
   "outputs": [],
   "source": []
  }
 ],
 "metadata": {
  "kernelspec": {
   "display_name": "Python 3",
   "language": "python",
   "name": "python3"
  },
  "language_info": {
   "codemirror_mode": {
    "name": "ipython",
    "version": 3
   },
   "file_extension": ".py",
   "mimetype": "text/x-python",
   "name": "python",
   "nbconvert_exporter": "python",
   "pygments_lexer": "ipython3",
   "version": "3.7.3"
  }
 },
 "nbformat": 4,
 "nbformat_minor": 2
}
