{
 "cells": [
  {
   "cell_type": "code",
   "execution_count": 5,
   "metadata": {},
   "outputs": [
    {
     "name": "stdout",
     "output_type": "stream",
     "text": [
      "Enter the value of p :17\n",
      "Enter the value of q :11\n",
      "\n",
      "Value of n is :  187\n",
      "Value of fn is :  160\n",
      "Choose an e from a below coprimes array:\n",
      "\n",
      "[3, 7, 9, 11, 13, 17, 19, 21, 23, 27, 29, 33, 37, 39, 41, 43, 47, 51, 53, 57, 59, 61, 63, 67, 69, 71, 73, 77, 81, 83, 87, 89, 91, 93, 97, 99, 101, 103, 107, 109, 113, 117, 119, 121, 123, 127, 131, 133, 137, 139, 141, 143, 147, 149, 151, 153, 157]\n",
      "\n",
      "Value of e : 7\n",
      "Public-key pair is :  7 160\n",
      "Private-key pair is :  23 160\n",
      "Enter value of M : 88\n",
      "\n",
      "Cipher Text generated is :  11\n",
      "Enter value of C : 11\n",
      "\n",
      "Plain Text generated is :  88\n"
     ]
    }
   ],
   "source": [
    "import math as m\n",
    "\n",
    "p = int(input(\"Enter the value of p :\"))\n",
    "q = int(input(\"Enter the value of q :\"))\n",
    "\n",
    "n = p*q\n",
    "print(\"\\nValue of n is : \",n)\n",
    "\n",
    "fn = (p-1)*(q-1)\n",
    "print(\"Value of fn is : \",fn)\n",
    "\n",
    "\n",
    "def gcd(a, b):\n",
    "    while b != 0:\n",
    "        c = a % b\n",
    "        a = b\n",
    "        b = c\n",
    "    return a\n",
    "\n",
    "def modinv(a, m):\n",
    "    for x in range(1, m):\n",
    "        if (a * x) % m == 1:\n",
    "            return x\n",
    "    return None\n",
    "\n",
    "def coprimes(a):\n",
    "    l = []\n",
    "    for x in range(2, a):\n",
    "        if gcd(a, x) == 1 and modinv(x,phi) != None:\n",
    "            l.append(x)\n",
    "    for x in l:\n",
    "        if x == modinv(x,phi):\n",
    "            l.remove(x)\n",
    "    return l\n",
    "\n",
    "print(\"Choose an e from a below coprimes array:\\n\")\n",
    "print(str(coprimes(phi)) + \"\\n\")\n",
    "e=int(input(\"Value of e : \"))\n",
    "\n",
    "d = modinv(e,fn)\n",
    "\n",
    "\n",
    "print(\"Public-key pair is : \",e,fn)\n",
    "print(\"Private-key pair is : \",d,fn)\n",
    "\n",
    "\n",
    "def encrypt(M):\n",
    "    C = (M**e % n)\n",
    "    print(\"\\nCipher Text generated is : \",C)\n",
    "\n",
    "def decrypt(C):\n",
    "    M = (C**d%n)\n",
    "    print(\"\\nPlain Text generated is : \",M)\n",
    "\n",
    "\n",
    "    \n",
    "val = int(input(\"Enter value of M : \"))\n",
    "encrypt(val)\n",
    "val2 = int(input(\"Enter value of C : \"))\n",
    "decrypt(val2)\n",
    "\n",
    "\n",
    "\n"
   ]
  },
  {
   "cell_type": "code",
   "execution_count": null,
   "metadata": {},
   "outputs": [],
   "source": []
  },
  {
   "cell_type": "code",
   "execution_count": null,
   "metadata": {},
   "outputs": [],
   "source": []
  },
  {
   "cell_type": "code",
   "execution_count": null,
   "metadata": {},
   "outputs": [],
   "source": []
  },
  {
   "cell_type": "code",
   "execution_count": null,
   "metadata": {},
   "outputs": [],
   "source": []
  },
  {
   "cell_type": "code",
   "execution_count": null,
   "metadata": {},
   "outputs": [],
   "source": []
  }
 ],
 "metadata": {
  "kernelspec": {
   "display_name": "Python 3",
   "language": "python",
   "name": "python3"
  },
  "language_info": {
   "codemirror_mode": {
    "name": "ipython",
    "version": 3
   },
   "file_extension": ".py",
   "mimetype": "text/x-python",
   "name": "python",
   "nbconvert_exporter": "python",
   "pygments_lexer": "ipython3",
   "version": "3.8.5"
  }
 },
 "nbformat": 4,
 "nbformat_minor": 4
}
