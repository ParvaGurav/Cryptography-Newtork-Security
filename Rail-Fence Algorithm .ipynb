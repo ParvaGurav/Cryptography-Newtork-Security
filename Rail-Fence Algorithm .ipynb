{
 "cells": [
  {
   "cell_type": "code",
   "execution_count": 1,
   "metadata": {},
   "outputs": [
    {
     "name": "stdout",
     "output_type": "stream",
     "text": [
      "Enter the number of layers: 3\n",
      "Enter the plain text: parva\n",
      "Encrypted text: PVAAR\n"
     ]
    }
   ],
   "source": [
    "def main():\n",
    "    # get the number of layers to rail encrypt\n",
    "    layers = int(input(\"Enter the number of layers: \"))\n",
    "\n",
    "    # get the plain text\n",
    "    plain_text = input(\"Enter the plain text: \")\n",
    "\n",
    "    # encrypt the plain text\n",
    "    cipher_text = encrypt(layers, plain_text)\n",
    "    print(\"Encrypted text: \" + cipher_text)\n",
    "\n",
    "\n",
    "def encrypt(layers, plain_text):\n",
    "    # remove all white spaces in text\n",
    "    plain_text = plain_text.replace(\" \", \"\")\n",
    "\n",
    "    # change plain text to upper case\n",
    "    plain_text = plain_text.upper()\n",
    "\n",
    "    # divide plain text into layers number of strings\n",
    "    rail = [\"\"] * layers\n",
    "    layer = 0\n",
    "    for character in plain_text:\n",
    "        rail[layer] += character\n",
    "        if layer >= layers - 1:\n",
    "            layer = 0\n",
    "        else:\n",
    "            layer += 1\n",
    "\n",
    "    cipher = \"\".join(rail)\n",
    "    return cipher\n",
    "\n",
    "if __name__ == '__main__':\n",
    "    main()"
   ]
  },
  {
   "cell_type": "code",
   "execution_count": null,
   "metadata": {},
   "outputs": [],
   "source": []
  },
  {
   "cell_type": "code",
   "execution_count": 4,
   "metadata": {},
   "outputs": [
    {
     "name": "stdout",
     "output_type": "stream",
     "text": [
      "Encrypted Message: rvv_aapra_g_u_\n",
      "Decryped Message: parvagurav\n"
     ]
    }
   ],
   "source": [
    "import math\n",
    "key = \"4312567\"\n",
    "def encryptMessage(msg):\n",
    "    cipher = \"\"\n",
    "    # track key indices\n",
    "    k_indx = 0\n",
    "    msg_len = float(len(msg))\n",
    "    msg_lst = list(msg)\n",
    "    key_lst = sorted(list(key))\n",
    "    col = len(key)\n",
    "    row = int(math.ceil(msg_len / col))\n",
    "    fill_null = int((row * col) - msg_len)\n",
    "    msg_lst.extend('_' * fill_null)\n",
    "    matrix = [msg_lst[i: i + col] \n",
    "              for i in range(0, len(msg_lst), col)]\n",
    "    for _ in range(col):\n",
    "        curr_idx = key.index(key_lst[k_indx])\n",
    "        cipher += ''.join([row[curr_idx] \n",
    "                          for row in matrix])\n",
    "        k_indx += 1\n",
    "  \n",
    "    return cipher\n",
    "\n",
    "def decryptMessage(cipher):\n",
    "    msg = \"\"\n",
    "    k_indx = 0\n",
    "    msg_indx = 0\n",
    "    msg_len = float(len(cipher))\n",
    "    msg_lst = list(cipher)\n",
    "    col = len(key)\n",
    "    row = int(math.ceil(msg_len / col))\n",
    "    key_lst = sorted(list(key))\n",
    "    dec_cipher = []\n",
    "    for _ in range(row):\n",
    "        dec_cipher += [[None] * col]\n",
    "    for _ in range(col):\n",
    "        curr_idx = key.index(key_lst[k_indx])\n",
    "        for j in range(row):\n",
    "            dec_cipher[j][curr_idx] = msg_lst[msg_indx]\n",
    "            msg_indx += 1\n",
    "        k_indx += 1\n",
    "    try:\n",
    "        msg = ''.join(sum(dec_cipher, []))\n",
    "    except TypeError:\n",
    "        raise TypeError(\"This program cannot\",\n",
    "                        \"handle repeating words.\")\n",
    "    null_count = msg.count('_')\n",
    "    if null_count > 0:\n",
    "        return msg[: -null_count]\n",
    "    return msg\n",
    "msg = \"parvagurav\"\n",
    "cipher = encryptMessage(msg)\n",
    "print(\"Encrypted Message: {}\".\n",
    "               format(cipher))\n",
    "  \n",
    "print(\"Decryped Message: {}\".\n",
    "       format(decryptMessage(cipher)))\n"
   ]
  },
  {
   "cell_type": "code",
   "execution_count": null,
   "metadata": {},
   "outputs": [],
   "source": []
  }
 ],
 "metadata": {
  "kernelspec": {
   "display_name": "Python 3",
   "language": "python",
   "name": "python3"
  },
  "language_info": {
   "codemirror_mode": {
    "name": "ipython",
    "version": 3
   },
   "file_extension": ".py",
   "mimetype": "text/x-python",
   "name": "python",
   "nbconvert_exporter": "python",
   "pygments_lexer": "ipython3",
   "version": "3.8.5"
  }
 },
 "nbformat": 4,
 "nbformat_minor": 4
}
