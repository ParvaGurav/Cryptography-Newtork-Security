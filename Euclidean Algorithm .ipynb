{
 "cells": [
  {
   "cell_type": "code",
   "execution_count": 2,
   "metadata": {},
   "outputs": [
    {
     "name": "stdout",
     "output_type": "stream",
     "text": [
      "Enter value of A:12\n",
      "Enter value of B:4\n",
      "gcd( 12 , 4 ) =  4\n"
     ]
    }
   ],
   "source": [
    "def gcdExtended(a, b):\n",
    "    if a == 0 : \n",
    "        return b, 0, 1\n",
    "            \n",
    "    gcd, x1, y1 = gcdExtended(b%a, a)\n",
    "    \n",
    "    x = y1 - (b//a) * x1\n",
    "    y = x1\n",
    "    \n",
    "    return gcd, x, y\n",
    "\n",
    "a=int(input(\"Enter value of A:\"))\n",
    "b=int(input(\"Enter value of B:\"))\n",
    "g, x, y = gcdExtended(a, b)\n",
    "print(\"gcd(\", a , \",\" , b, \") = \", g)"
   ]
  },
  {
   "cell_type": "code",
   "execution_count": null,
   "metadata": {},
   "outputs": [],
   "source": []
  }
 ],
 "metadata": {
  "kernelspec": {
   "display_name": "Python 3",
   "language": "python",
   "name": "python3"
  },
  "language_info": {
   "codemirror_mode": {
    "name": "ipython",
    "version": 3
   },
   "file_extension": ".py",
   "mimetype": "text/x-python",
   "name": "python",
   "nbconvert_exporter": "python",
   "pygments_lexer": "ipython3",
   "version": "3.8.5"
  }
 },
 "nbformat": 4,
 "nbformat_minor": 4
}
